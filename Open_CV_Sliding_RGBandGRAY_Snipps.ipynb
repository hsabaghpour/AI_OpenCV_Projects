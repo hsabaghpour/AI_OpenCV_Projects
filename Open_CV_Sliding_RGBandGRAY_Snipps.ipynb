{
  "nbformat": 4,
  "nbformat_minor": 0,
  "metadata": {
    "colab": {
      "provenance": [],
      "authorship_tag": "ABX9TyNvbnerD75fHqbmgn5h0CVe",
      "include_colab_link": true
    },
    "kernelspec": {
      "name": "python3",
      "display_name": "Python 3"
    },
    "language_info": {
      "name": "python"
    }
  },
  "cells": [
    {
      "cell_type": "markdown",
      "metadata": {
        "id": "view-in-github",
        "colab_type": "text"
      },
      "source": [
        "<a href=\"https://colab.research.google.com/github/hsabaghpour/AI_OpenCV_Projects/blob/main/Open_CV_Sliding_RGBandGRAY_Snipps.ipynb\" target=\"_parent\"><img src=\"https://colab.research.google.com/assets/colab-badge.svg\" alt=\"Open In Colab\"/></a>"
      ]
    },
    {
      "cell_type": "code",
      "source": [
        "!pip install opencv-python"
      ],
      "metadata": {
        "colab": {
          "base_uri": "https://localhost:8080/"
        },
        "id": "CQCs10662CdP",
        "outputId": "117d9a31-ee30-4043-eafd-4c5a961da701"
      },
      "execution_count": 6,
      "outputs": [
        {
          "output_type": "stream",
          "name": "stdout",
          "text": [
            "Requirement already satisfied: opencv-python in /usr/local/lib/python3.10/dist-packages (4.8.0.76)\n",
            "Requirement already satisfied: numpy>=1.21.2 in /usr/local/lib/python3.10/dist-packages (from opencv-python) (1.25.2)\n"
          ]
        }
      ]
    },
    {
      "cell_type": "code",
      "execution_count": 8,
      "metadata": {
        "colab": {
          "base_uri": "https://localhost:8080/"
        },
        "collapsed": true,
        "id": "dsude5gi0_hs",
        "outputId": "55548d3d-caaa-4f6c-a926-e7df2b142cb9"
      },
      "outputs": [
        {
          "output_type": "stream",
          "name": "stdout",
          "text": [
            "Failed to read frame from camera. Check camera connection.\n"
          ]
        }
      ],
      "source": [
        "import cv2\n",
        "import time\n",
        "import numpy as np\n",
        "\n",
        "#print(cv2.__version__)\n",
        "cam = cv2.VideoCapture(0)\n",
        "\n",
        "Start = np.random.randint(1, 160)\n",
        "Top = Start\n",
        "Left = Start\n",
        "Right = Left + 80\n",
        "Butt = Top + 50\n",
        "Step = 5\n",
        "H_Step = 1\n",
        "V_Step = 1\n",
        "Frame_Count = 0\n",
        "while True:\n",
        "\n",
        "    ret, frame = cam.read()  # Read the frame, and store the success status in 'ret'\n",
        "    if not ret:  # Check if the frame was read successfully\n",
        "        print(\"Failed to read frame from camera. Check camera connection.\")\n",
        "        break  # Exit the loop if no frame is read\n",
        "\n",
        "    _,rcf = cam.read()\n",
        "    #rcf = cv2.resize(frame, (320, 240))\n",
        "    #rcf = frame()\n",
        "\n",
        "\n",
        "\n",
        "    if Butt > 240 or Top == 0 :\n",
        "        V_Step = V_Step * -1\n",
        "        Top = Top + V_Step\n",
        "        Butt = Butt + V_Step\n",
        "\n",
        "\n",
        "    else:\n",
        "        Top = Top + V_Step\n",
        "        Butt = Butt + V_Step\n",
        "\n",
        "\n",
        "    if Right > 320 or Left == 0:\n",
        "        H_Step = H_Step * -1\n",
        "        Right = Right + H_Step\n",
        "        Left = Left + H_Step\n",
        "    else:\n",
        "        Right = Right + H_Step\n",
        "        Left = Left + H_Step\n",
        "\n",
        "\n",
        "\n",
        "\n",
        "        cv2.rectangle(rcf, (Left,Top), (Right,Butt), (255,255,255), 2)\n",
        "\n",
        "\n",
        "            #rcf[i, j] = [0, 0, 255]\n",
        "    frameROI = rcf[Top:Butt, Left:Right]\n",
        "    frameROI_BACKUP = frameROI.copy()\n",
        "\n",
        "    grayROI = cv2.cvtColor(frameROI, cv2.COLOR_BGR2GRAY)\n",
        "    BGRROI  = cv2.cvtColor(grayROI, cv2.COLOR_BGR2RGB)\n",
        "    rcf[Top:Butt, Left:Right] = BGRROI\n",
        "\n",
        "    grayHW = cv2.cvtColor(rcf, cv2.COLOR_BGR2GRAY)\n",
        "    Gray2BGRHW = cv2.cvtColor(grayHW, cv2.COLOR_GRAY2BGR)\n",
        "    Gray2BGRHW[Top:Butt, Left:Right] = frameROI_BACKUP\n",
        "    cv2.imshow('GrayHW', Gray2BGRHW)\n",
        "    cv2.moveWindow('GrayHW', 0, 300)\n",
        "\n",
        "\n",
        "    #cv2.imshow('ROI',  frameROI)\n",
        "    cv2.imshow('BGR', rcf)\n",
        "    #cv2.moveWindow('ROI', 0, 0)\n",
        "    cv2.moveWindow('BGR', 220, 0)\n",
        "    #cv2.imshow('Gray', grayROI)\n",
        "    #cv2.moveWindow('Gray', 0, 250)\n",
        "    #cv2.imshow('RGB', BGRROI)\n",
        "    #cv2.moveWindow('RGB', 220, 250)\n",
        "\n",
        "    #time.sleep(0.01)\n",
        "    Frame_Count += 1\n",
        "\n",
        "    if cv2.waitKey(1) & 0xff == ord('q'):\n",
        "                break\n",
        "cam.release()"
      ]
    }
  ]
}